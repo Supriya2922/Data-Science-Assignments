{
  "nbformat": 4,
  "nbformat_minor": 0,
  "metadata": {
    "colab": {
      "provenance": [],
      "collapsed_sections": []
    },
    "kernelspec": {
      "name": "python3",
      "display_name": "Python 3"
    },
    "language_info": {
      "name": "python"
    }
  },
  "cells": [
    {
      "cell_type": "code",
      "execution_count": null,
      "metadata": {
        "id": "PWNNG87G8nAL"
      },
      "outputs": [],
      "source": [
        "import pandas as pd\n",
        "import numpy as np\n",
        "import seaborn as sns\n",
        "import matplotlib.pyplot as plt\n",
        "from sklearn.linear_model import LinearRegression\n",
        "from sklearn.linear_model import LogisticRegression"
      ]
    },
    {
      "cell_type": "code",
      "source": [
        "df=pd.read_csv('cancer_reg.csv')"
      ],
      "metadata": {
        "id": "aPgVd1oa8tiF"
      },
      "execution_count": null,
      "outputs": []
    },
    {
      "cell_type": "code",
      "source": [
        "df.head(5)"
      ],
      "metadata": {
        "colab": {
          "base_uri": "https://localhost:8080/",
          "height": 386
        },
        "id": "mbbDTMm59Ui9",
        "outputId": "3d02476f-d0ee-440e-bd7a-8573b1051c97"
      },
      "execution_count": null,
      "outputs": [
        {
          "output_type": "execute_result",
          "data": {
            "text/plain": [
              "   avganncount  avgdeathsperyear  target_deathrate  incidencerate  medincome  \\\n",
              "0       1397.0               469             164.9          489.8      61898   \n",
              "1        173.0                70             161.3          411.6      48127   \n",
              "2        102.0                50             174.7          349.7      49348   \n",
              "3        427.0               202             194.8          430.4      44243   \n",
              "4         57.0                26             144.4          350.1      49955   \n",
              "\n",
              "   popest2015  povertypercent  studypercap           binnedinc  medianage  \\\n",
              "0      260131            11.2   499.748204   (61494.5, 125635]       39.3   \n",
              "1       43269            18.6    23.111234  (48021.6, 51046.4]       33.0   \n",
              "2       21026            14.6    47.560164  (48021.6, 51046.4]       45.0   \n",
              "3       75882            17.1   342.637253    (42724.4, 45201]       42.8   \n",
              "4       10321            12.5     0.000000  (48021.6, 51046.4]       48.3   \n",
              "\n",
              "   ...  pctprivatecoveragealone  pctempprivcoverage pctpubliccoverage  \\\n",
              "0  ...                      NaN                41.6              32.9   \n",
              "1  ...                     53.8                43.6              31.1   \n",
              "2  ...                     43.5                34.9              42.1   \n",
              "3  ...                     40.3                35.0              45.3   \n",
              "4  ...                     43.9                35.1              44.0   \n",
              "\n",
              "   pctpubliccoveragealone   pctwhite  pctblack  pctasian  pctotherrace  \\\n",
              "0                    14.0  81.780529  2.594728  4.821857      1.843479   \n",
              "1                    15.3  89.228509  0.969102  2.246233      3.741352   \n",
              "2                    21.1  90.922190  0.739673  0.465898      2.747358   \n",
              "3                    25.0  91.744686  0.782626  1.161359      1.362643   \n",
              "4                    22.7  94.104024  0.270192  0.665830      0.492135   \n",
              "\n",
              "   pctmarriedhouseholds  birthrate  \n",
              "0             52.856076   6.118831  \n",
              "1             45.372500   4.333096  \n",
              "2             54.444868   3.729488  \n",
              "3             51.021514   4.603841  \n",
              "4             54.027460   6.796657  \n",
              "\n",
              "[5 rows x 33 columns]"
            ],
            "text/html": [
              "\n",
              "  <div id=\"df-332d6cb7-c20a-4466-b0d6-fbb9083dab46\">\n",
              "    <div class=\"colab-df-container\">\n",
              "      <div>\n",
              "<style scoped>\n",
              "    .dataframe tbody tr th:only-of-type {\n",
              "        vertical-align: middle;\n",
              "    }\n",
              "\n",
              "    .dataframe tbody tr th {\n",
              "        vertical-align: top;\n",
              "    }\n",
              "\n",
              "    .dataframe thead th {\n",
              "        text-align: right;\n",
              "    }\n",
              "</style>\n",
              "<table border=\"1\" class=\"dataframe\">\n",
              "  <thead>\n",
              "    <tr style=\"text-align: right;\">\n",
              "      <th></th>\n",
              "      <th>avganncount</th>\n",
              "      <th>avgdeathsperyear</th>\n",
              "      <th>target_deathrate</th>\n",
              "      <th>incidencerate</th>\n",
              "      <th>medincome</th>\n",
              "      <th>popest2015</th>\n",
              "      <th>povertypercent</th>\n",
              "      <th>studypercap</th>\n",
              "      <th>binnedinc</th>\n",
              "      <th>medianage</th>\n",
              "      <th>...</th>\n",
              "      <th>pctprivatecoveragealone</th>\n",
              "      <th>pctempprivcoverage</th>\n",
              "      <th>pctpubliccoverage</th>\n",
              "      <th>pctpubliccoveragealone</th>\n",
              "      <th>pctwhite</th>\n",
              "      <th>pctblack</th>\n",
              "      <th>pctasian</th>\n",
              "      <th>pctotherrace</th>\n",
              "      <th>pctmarriedhouseholds</th>\n",
              "      <th>birthrate</th>\n",
              "    </tr>\n",
              "  </thead>\n",
              "  <tbody>\n",
              "    <tr>\n",
              "      <th>0</th>\n",
              "      <td>1397.0</td>\n",
              "      <td>469</td>\n",
              "      <td>164.9</td>\n",
              "      <td>489.8</td>\n",
              "      <td>61898</td>\n",
              "      <td>260131</td>\n",
              "      <td>11.2</td>\n",
              "      <td>499.748204</td>\n",
              "      <td>(61494.5, 125635]</td>\n",
              "      <td>39.3</td>\n",
              "      <td>...</td>\n",
              "      <td>NaN</td>\n",
              "      <td>41.6</td>\n",
              "      <td>32.9</td>\n",
              "      <td>14.0</td>\n",
              "      <td>81.780529</td>\n",
              "      <td>2.594728</td>\n",
              "      <td>4.821857</td>\n",
              "      <td>1.843479</td>\n",
              "      <td>52.856076</td>\n",
              "      <td>6.118831</td>\n",
              "    </tr>\n",
              "    <tr>\n",
              "      <th>1</th>\n",
              "      <td>173.0</td>\n",
              "      <td>70</td>\n",
              "      <td>161.3</td>\n",
              "      <td>411.6</td>\n",
              "      <td>48127</td>\n",
              "      <td>43269</td>\n",
              "      <td>18.6</td>\n",
              "      <td>23.111234</td>\n",
              "      <td>(48021.6, 51046.4]</td>\n",
              "      <td>33.0</td>\n",
              "      <td>...</td>\n",
              "      <td>53.8</td>\n",
              "      <td>43.6</td>\n",
              "      <td>31.1</td>\n",
              "      <td>15.3</td>\n",
              "      <td>89.228509</td>\n",
              "      <td>0.969102</td>\n",
              "      <td>2.246233</td>\n",
              "      <td>3.741352</td>\n",
              "      <td>45.372500</td>\n",
              "      <td>4.333096</td>\n",
              "    </tr>\n",
              "    <tr>\n",
              "      <th>2</th>\n",
              "      <td>102.0</td>\n",
              "      <td>50</td>\n",
              "      <td>174.7</td>\n",
              "      <td>349.7</td>\n",
              "      <td>49348</td>\n",
              "      <td>21026</td>\n",
              "      <td>14.6</td>\n",
              "      <td>47.560164</td>\n",
              "      <td>(48021.6, 51046.4]</td>\n",
              "      <td>45.0</td>\n",
              "      <td>...</td>\n",
              "      <td>43.5</td>\n",
              "      <td>34.9</td>\n",
              "      <td>42.1</td>\n",
              "      <td>21.1</td>\n",
              "      <td>90.922190</td>\n",
              "      <td>0.739673</td>\n",
              "      <td>0.465898</td>\n",
              "      <td>2.747358</td>\n",
              "      <td>54.444868</td>\n",
              "      <td>3.729488</td>\n",
              "    </tr>\n",
              "    <tr>\n",
              "      <th>3</th>\n",
              "      <td>427.0</td>\n",
              "      <td>202</td>\n",
              "      <td>194.8</td>\n",
              "      <td>430.4</td>\n",
              "      <td>44243</td>\n",
              "      <td>75882</td>\n",
              "      <td>17.1</td>\n",
              "      <td>342.637253</td>\n",
              "      <td>(42724.4, 45201]</td>\n",
              "      <td>42.8</td>\n",
              "      <td>...</td>\n",
              "      <td>40.3</td>\n",
              "      <td>35.0</td>\n",
              "      <td>45.3</td>\n",
              "      <td>25.0</td>\n",
              "      <td>91.744686</td>\n",
              "      <td>0.782626</td>\n",
              "      <td>1.161359</td>\n",
              "      <td>1.362643</td>\n",
              "      <td>51.021514</td>\n",
              "      <td>4.603841</td>\n",
              "    </tr>\n",
              "    <tr>\n",
              "      <th>4</th>\n",
              "      <td>57.0</td>\n",
              "      <td>26</td>\n",
              "      <td>144.4</td>\n",
              "      <td>350.1</td>\n",
              "      <td>49955</td>\n",
              "      <td>10321</td>\n",
              "      <td>12.5</td>\n",
              "      <td>0.000000</td>\n",
              "      <td>(48021.6, 51046.4]</td>\n",
              "      <td>48.3</td>\n",
              "      <td>...</td>\n",
              "      <td>43.9</td>\n",
              "      <td>35.1</td>\n",
              "      <td>44.0</td>\n",
              "      <td>22.7</td>\n",
              "      <td>94.104024</td>\n",
              "      <td>0.270192</td>\n",
              "      <td>0.665830</td>\n",
              "      <td>0.492135</td>\n",
              "      <td>54.027460</td>\n",
              "      <td>6.796657</td>\n",
              "    </tr>\n",
              "  </tbody>\n",
              "</table>\n",
              "<p>5 rows × 33 columns</p>\n",
              "</div>\n",
              "      <button class=\"colab-df-convert\" onclick=\"convertToInteractive('df-332d6cb7-c20a-4466-b0d6-fbb9083dab46')\"\n",
              "              title=\"Convert this dataframe to an interactive table.\"\n",
              "              style=\"display:none;\">\n",
              "        \n",
              "  <svg xmlns=\"http://www.w3.org/2000/svg\" height=\"24px\"viewBox=\"0 0 24 24\"\n",
              "       width=\"24px\">\n",
              "    <path d=\"M0 0h24v24H0V0z\" fill=\"none\"/>\n",
              "    <path d=\"M18.56 5.44l.94 2.06.94-2.06 2.06-.94-2.06-.94-.94-2.06-.94 2.06-2.06.94zm-11 1L8.5 8.5l.94-2.06 2.06-.94-2.06-.94L8.5 2.5l-.94 2.06-2.06.94zm10 10l.94 2.06.94-2.06 2.06-.94-2.06-.94-.94-2.06-.94 2.06-2.06.94z\"/><path d=\"M17.41 7.96l-1.37-1.37c-.4-.4-.92-.59-1.43-.59-.52 0-1.04.2-1.43.59L10.3 9.45l-7.72 7.72c-.78.78-.78 2.05 0 2.83L4 21.41c.39.39.9.59 1.41.59.51 0 1.02-.2 1.41-.59l7.78-7.78 2.81-2.81c.8-.78.8-2.07 0-2.86zM5.41 20L4 18.59l7.72-7.72 1.47 1.35L5.41 20z\"/>\n",
              "  </svg>\n",
              "      </button>\n",
              "      \n",
              "  <style>\n",
              "    .colab-df-container {\n",
              "      display:flex;\n",
              "      flex-wrap:wrap;\n",
              "      gap: 12px;\n",
              "    }\n",
              "\n",
              "    .colab-df-convert {\n",
              "      background-color: #E8F0FE;\n",
              "      border: none;\n",
              "      border-radius: 50%;\n",
              "      cursor: pointer;\n",
              "      display: none;\n",
              "      fill: #1967D2;\n",
              "      height: 32px;\n",
              "      padding: 0 0 0 0;\n",
              "      width: 32px;\n",
              "    }\n",
              "\n",
              "    .colab-df-convert:hover {\n",
              "      background-color: #E2EBFA;\n",
              "      box-shadow: 0px 1px 2px rgba(60, 64, 67, 0.3), 0px 1px 3px 1px rgba(60, 64, 67, 0.15);\n",
              "      fill: #174EA6;\n",
              "    }\n",
              "\n",
              "    [theme=dark] .colab-df-convert {\n",
              "      background-color: #3B4455;\n",
              "      fill: #D2E3FC;\n",
              "    }\n",
              "\n",
              "    [theme=dark] .colab-df-convert:hover {\n",
              "      background-color: #434B5C;\n",
              "      box-shadow: 0px 1px 3px 1px rgba(0, 0, 0, 0.15);\n",
              "      filter: drop-shadow(0px 1px 2px rgba(0, 0, 0, 0.3));\n",
              "      fill: #FFFFFF;\n",
              "    }\n",
              "  </style>\n",
              "\n",
              "      <script>\n",
              "        const buttonEl =\n",
              "          document.querySelector('#df-332d6cb7-c20a-4466-b0d6-fbb9083dab46 button.colab-df-convert');\n",
              "        buttonEl.style.display =\n",
              "          google.colab.kernel.accessAllowed ? 'block' : 'none';\n",
              "\n",
              "        async function convertToInteractive(key) {\n",
              "          const element = document.querySelector('#df-332d6cb7-c20a-4466-b0d6-fbb9083dab46');\n",
              "          const dataTable =\n",
              "            await google.colab.kernel.invokeFunction('convertToInteractive',\n",
              "                                                     [key], {});\n",
              "          if (!dataTable) return;\n",
              "\n",
              "          const docLinkHtml = 'Like what you see? Visit the ' +\n",
              "            '<a target=\"_blank\" href=https://colab.research.google.com/notebooks/data_table.ipynb>data table notebook</a>'\n",
              "            + ' to learn more about interactive tables.';\n",
              "          element.innerHTML = '';\n",
              "          dataTable['output_type'] = 'display_data';\n",
              "          await google.colab.output.renderOutput(dataTable, element);\n",
              "          const docLink = document.createElement('div');\n",
              "          docLink.innerHTML = docLinkHtml;\n",
              "          element.appendChild(docLink);\n",
              "        }\n",
              "      </script>\n",
              "    </div>\n",
              "  </div>\n",
              "  "
            ]
          },
          "metadata": {},
          "execution_count": 5
        }
      ]
    },
    {
      "cell_type": "code",
      "source": [
        "df_binary=df[['avganncount','avgdeathsperyear']]\n",
        "df_binary.columns=['count','death']\n",
        "df_binary.head()"
      ],
      "metadata": {
        "colab": {
          "base_uri": "https://localhost:8080/",
          "height": 206
        },
        "id": "jPmuxsRn_Wfi",
        "outputId": "ffb06336-5055-4f94-e0d7-03040abf6583"
      },
      "execution_count": null,
      "outputs": [
        {
          "output_type": "execute_result",
          "data": {
            "text/plain": [
              "    count  death\n",
              "0  1397.0    469\n",
              "1   173.0     70\n",
              "2   102.0     50\n",
              "3   427.0    202\n",
              "4    57.0     26"
            ],
            "text/html": [
              "\n",
              "  <div id=\"df-e7206519-fa20-4a30-987c-c97015029f91\">\n",
              "    <div class=\"colab-df-container\">\n",
              "      <div>\n",
              "<style scoped>\n",
              "    .dataframe tbody tr th:only-of-type {\n",
              "        vertical-align: middle;\n",
              "    }\n",
              "\n",
              "    .dataframe tbody tr th {\n",
              "        vertical-align: top;\n",
              "    }\n",
              "\n",
              "    .dataframe thead th {\n",
              "        text-align: right;\n",
              "    }\n",
              "</style>\n",
              "<table border=\"1\" class=\"dataframe\">\n",
              "  <thead>\n",
              "    <tr style=\"text-align: right;\">\n",
              "      <th></th>\n",
              "      <th>count</th>\n",
              "      <th>death</th>\n",
              "    </tr>\n",
              "  </thead>\n",
              "  <tbody>\n",
              "    <tr>\n",
              "      <th>0</th>\n",
              "      <td>1397.0</td>\n",
              "      <td>469</td>\n",
              "    </tr>\n",
              "    <tr>\n",
              "      <th>1</th>\n",
              "      <td>173.0</td>\n",
              "      <td>70</td>\n",
              "    </tr>\n",
              "    <tr>\n",
              "      <th>2</th>\n",
              "      <td>102.0</td>\n",
              "      <td>50</td>\n",
              "    </tr>\n",
              "    <tr>\n",
              "      <th>3</th>\n",
              "      <td>427.0</td>\n",
              "      <td>202</td>\n",
              "    </tr>\n",
              "    <tr>\n",
              "      <th>4</th>\n",
              "      <td>57.0</td>\n",
              "      <td>26</td>\n",
              "    </tr>\n",
              "  </tbody>\n",
              "</table>\n",
              "</div>\n",
              "      <button class=\"colab-df-convert\" onclick=\"convertToInteractive('df-e7206519-fa20-4a30-987c-c97015029f91')\"\n",
              "              title=\"Convert this dataframe to an interactive table.\"\n",
              "              style=\"display:none;\">\n",
              "        \n",
              "  <svg xmlns=\"http://www.w3.org/2000/svg\" height=\"24px\"viewBox=\"0 0 24 24\"\n",
              "       width=\"24px\">\n",
              "    <path d=\"M0 0h24v24H0V0z\" fill=\"none\"/>\n",
              "    <path d=\"M18.56 5.44l.94 2.06.94-2.06 2.06-.94-2.06-.94-.94-2.06-.94 2.06-2.06.94zm-11 1L8.5 8.5l.94-2.06 2.06-.94-2.06-.94L8.5 2.5l-.94 2.06-2.06.94zm10 10l.94 2.06.94-2.06 2.06-.94-2.06-.94-.94-2.06-.94 2.06-2.06.94z\"/><path d=\"M17.41 7.96l-1.37-1.37c-.4-.4-.92-.59-1.43-.59-.52 0-1.04.2-1.43.59L10.3 9.45l-7.72 7.72c-.78.78-.78 2.05 0 2.83L4 21.41c.39.39.9.59 1.41.59.51 0 1.02-.2 1.41-.59l7.78-7.78 2.81-2.81c.8-.78.8-2.07 0-2.86zM5.41 20L4 18.59l7.72-7.72 1.47 1.35L5.41 20z\"/>\n",
              "  </svg>\n",
              "      </button>\n",
              "      \n",
              "  <style>\n",
              "    .colab-df-container {\n",
              "      display:flex;\n",
              "      flex-wrap:wrap;\n",
              "      gap: 12px;\n",
              "    }\n",
              "\n",
              "    .colab-df-convert {\n",
              "      background-color: #E8F0FE;\n",
              "      border: none;\n",
              "      border-radius: 50%;\n",
              "      cursor: pointer;\n",
              "      display: none;\n",
              "      fill: #1967D2;\n",
              "      height: 32px;\n",
              "      padding: 0 0 0 0;\n",
              "      width: 32px;\n",
              "    }\n",
              "\n",
              "    .colab-df-convert:hover {\n",
              "      background-color: #E2EBFA;\n",
              "      box-shadow: 0px 1px 2px rgba(60, 64, 67, 0.3), 0px 1px 3px 1px rgba(60, 64, 67, 0.15);\n",
              "      fill: #174EA6;\n",
              "    }\n",
              "\n",
              "    [theme=dark] .colab-df-convert {\n",
              "      background-color: #3B4455;\n",
              "      fill: #D2E3FC;\n",
              "    }\n",
              "\n",
              "    [theme=dark] .colab-df-convert:hover {\n",
              "      background-color: #434B5C;\n",
              "      box-shadow: 0px 1px 3px 1px rgba(0, 0, 0, 0.15);\n",
              "      filter: drop-shadow(0px 1px 2px rgba(0, 0, 0, 0.3));\n",
              "      fill: #FFFFFF;\n",
              "    }\n",
              "  </style>\n",
              "\n",
              "      <script>\n",
              "        const buttonEl =\n",
              "          document.querySelector('#df-e7206519-fa20-4a30-987c-c97015029f91 button.colab-df-convert');\n",
              "        buttonEl.style.display =\n",
              "          google.colab.kernel.accessAllowed ? 'block' : 'none';\n",
              "\n",
              "        async function convertToInteractive(key) {\n",
              "          const element = document.querySelector('#df-e7206519-fa20-4a30-987c-c97015029f91');\n",
              "          const dataTable =\n",
              "            await google.colab.kernel.invokeFunction('convertToInteractive',\n",
              "                                                     [key], {});\n",
              "          if (!dataTable) return;\n",
              "\n",
              "          const docLinkHtml = 'Like what you see? Visit the ' +\n",
              "            '<a target=\"_blank\" href=https://colab.research.google.com/notebooks/data_table.ipynb>data table notebook</a>'\n",
              "            + ' to learn more about interactive tables.';\n",
              "          element.innerHTML = '';\n",
              "          dataTable['output_type'] = 'display_data';\n",
              "          await google.colab.output.renderOutput(dataTable, element);\n",
              "          const docLink = document.createElement('div');\n",
              "          docLink.innerHTML = docLinkHtml;\n",
              "          element.appendChild(docLink);\n",
              "        }\n",
              "      </script>\n",
              "    </div>\n",
              "  </div>\n",
              "  "
            ]
          },
          "metadata": {},
          "execution_count": 6
        }
      ]
    },
    {
      "cell_type": "code",
      "source": [
        "#df_binary['diagnosis'] = df_binary['diagnosis'].apply(lambda x: 0 if x=='M' else 1)\n",
        "\n",
        "#df_binary.head()\n"
      ],
      "metadata": {
        "id": "gb_LKfGaJPKC"
      },
      "execution_count": null,
      "outputs": []
    },
    {
      "cell_type": "code",
      "source": [
        "df_binary.isnull().sum()"
      ],
      "metadata": {
        "colab": {
          "base_uri": "https://localhost:8080/"
        },
        "id": "-eI6GFirM8KM",
        "outputId": "0e672cdd-cdfd-4ab9-be06-8131cb1fc60a"
      },
      "execution_count": null,
      "outputs": [
        {
          "output_type": "execute_result",
          "data": {
            "text/plain": [
              "count    0\n",
              "death    0\n",
              "dtype: int64"
            ]
          },
          "metadata": {},
          "execution_count": 7
        }
      ]
    },
    {
      "cell_type": "code",
      "source": [
        "sns.lmplot(x=\"count\",y=\"death\",data=df_binary)"
      ],
      "metadata": {
        "colab": {
          "base_uri": "https://localhost:8080/",
          "height": 386
        },
        "id": "f0cVQOai_48l",
        "outputId": "199ae364-7381-410f-a615-a3e4d09ba5cb"
      },
      "execution_count": null,
      "outputs": [
        {
          "output_type": "execute_result",
          "data": {
            "text/plain": [
              "<seaborn.axisgrid.FacetGrid at 0x7f455eb70610>"
            ]
          },
          "metadata": {},
          "execution_count": 8
        },
        {
          "output_type": "display_data",
          "data": {
            "text/plain": [
              "<Figure size 360x360 with 1 Axes>"
            ],
            "image/png": "[encoded data removed]"
          },
          "metadata": {
            "needs_background": "light"
          }
        }
      ]
    },
    {
      "cell_type": "code",
      "source": [
        "from sklearn.model_selection import train_test_split\n",
        "X = np.array(df_binary['count']).reshape(-1, 1)\n",
        "y = np.array(df_binary['death']).reshape(-1, 1)\n",
        "  \n",
        "# Separating the data into independent and dependent variables\n",
        "# Converting each dataframe into a numpy array \n",
        "# since each dataframe contains only one column\n",
        "df_binary.dropna(inplace = True)\n",
        "  \n",
        "# Dropping any rows with Nan values\n",
        "X_train, X_test, y_train, y_test = train_test_split(X, y, test_size = 0.25)\n",
        "  \n",
        "# Splitting the data into training and testing data\n",
        "regr = LinearRegression()\n",
        "  \n",
        "regr.fit(X_train, y_train)\n",
        "print(regr.score(X_test, y_test))"
      ],
      "metadata": {
        "colab": {
          "base_uri": "https://localhost:8080/"
        },
        "id": "CbKEg3W1An5O",
        "outputId": "d6860010-d505-43b9-d322-0a840fa5fd48"
      },
      "execution_count": null,
      "outputs": [
        {
          "output_type": "stream",
          "name": "stdout",
          "text": [
            "0.7839945698563877\n"
          ]
        },
        {
          "output_type": "stream",
          "name": "stderr",
          "text": [
            "/usr/local/lib/python3.7/dist-packages/pandas/util/_decorators.py:311: SettingWithCopyWarning: \n",
            "A value is trying to be set on a copy of a slice from a DataFrame\n",
            "\n",
            "See the caveats in the documentation: https://pandas.pydata.org/pandas-docs/stable/user_guide/indexing.html#returning-a-view-versus-a-copy\n",
            "  return func(*args, **kwargs)\n"
          ]
        }
      ]
    },
    {
      "cell_type": "code",
      "source": [
        "y_pred = regr.predict(X_test)\n",
        "plt.scatter(X_test, y_test, color ='b')\n",
        "plt.plot(X_test, y_pred, color ='k')\n",
        "  \n",
        "plt.show()"
      ],
      "metadata": {
        "colab": {
          "base_uri": "https://localhost:8080/",
          "height": 265
        },
        "id": "IjhLHOJaBC2s",
        "outputId": "5a0594b6-1b85-4539-ea1b-5818e0b5dab0"
      },
      "execution_count": null,
      "outputs": [
        {
          "output_type": "display_data",
          "data": {
            "text/plain": [
              "<Figure size 432x288 with 1 Axes>"
            ],
            "image/png": "[encoded data removed]"
          },
          "metadata": {
            "needs_background": "light"
          }
        }
      ]
    },
    {
      "cell_type": "code",
      "source": [],
      "metadata": {
        "id": "4xdJxRyBJJoV"
      },
      "execution_count": null,
      "outputs": []
    },
    {
      "cell_type": "markdown",
      "source": [
        "***LOGISTIC*** ***REGRESSION*** "
      ],
      "metadata": {
        "id": "b1qBDhkTiAF-"
      }
    },
    {
      "cell_type": "code",
      "source": [
        "data=pd.read_csv(\"lung_cancer.csv\")"
      ],
      "metadata": {
        "id": "qvdMAVS8iJdT"
      },
      "execution_count": null,
      "outputs": []
    },
    {
      "cell_type": "code",
      "source": [
        "print(data.head())"
      ],
      "metadata": {
        "colab": {
          "base_uri": "https://localhost:8080/"
        },
        "id": "7Tp_-M-_kpwE",
        "outputId": "a8e450e5-beb8-48ad-f9c6-1611c2309dfc"
      },
      "execution_count": null,
      "outputs": [
        {
          "output_type": "stream",
          "name": "stdout",
          "text": [
            "  GENDER  AGE  SMOKING  YELLOW_FINGERS  ANXIETY  PEER_PRESSURE  \\\n",
            "0      M   69        1               2        2              1   \n",
            "1      M   74        2               1        1              1   \n",
            "2      F   59        1               1        1              2   \n",
            "3      M   63        2               2        2              1   \n",
            "4      F   63        1               2        1              1   \n",
            "\n",
            "   CHRONIC DISEASE  FATIGUE   ALLERGY   WHEEZING  ALCOHOL CONSUMING  COUGHING  \\\n",
            "0                1         2         1         2                  2         2   \n",
            "1                2         2         2         1                  1         1   \n",
            "2                1         2         1         2                  1         2   \n",
            "3                1         1         1         1                  2         1   \n",
            "4                1         1         1         2                  1         2   \n",
            "\n",
            "   SHORTNESS OF BREATH  SWALLOWING DIFFICULTY  CHEST PAIN  LUNG_CANCER  \n",
            "0                    2                      2           2            1  \n",
            "1                    2                      2           2            1  \n",
            "2                    2                      1           2            0  \n",
            "3                    1                      2           2            0  \n",
            "4                    2                      1           1            0  \n"
          ]
        }
      ]
    },
    {
      "cell_type": "code",
      "source": [
        "data['diagnosis'] = data['diagnosis'].apply(lambda x: 0 if x=='M' else 1)\n",
        "data.head()"
      ],
      "metadata": {
        "colab": {
          "base_uri": "https://localhost:8080/",
          "height": 317
        },
        "id": "cuYoJUB_pogR",
        "outputId": "c38512ee-cd66-4dc1-dcd9-855dce9761dc"
      },
      "execution_count": null,
      "outputs": [
        {
          "output_type": "execute_result",
          "data": {
            "text/plain": [
              "         id  diagnosis  radius_mean  texture_mean  perimeter_mean  area_mean  \\\n",
              "0    842302          0        17.99         10.38          122.80     1001.0   \n",
              "1    842517          0        20.57         17.77          132.90     1326.0   \n",
              "2  84300903          0        19.69         21.25          130.00     1203.0   \n",
              "3  84348301          0        11.42         20.38           77.58      386.1   \n",
              "4  84358402          0        20.29         14.34          135.10     1297.0   \n",
              "\n",
              "   smoothness_mean  compactness_mean  concavity_mean  concave points_mean  \\\n",
              "0          0.11840           0.27760          0.3001              0.14710   \n",
              "1          0.08474           0.07864          0.0869              0.07017   \n",
              "2          0.10960           0.15990          0.1974              0.12790   \n",
              "3          0.14250           0.28390          0.2414              0.10520   \n",
              "4          0.10030           0.13280          0.1980              0.10430   \n",
              "\n",
              "   ...  radius_worst  texture_worst  perimeter_worst  area_worst  \\\n",
              "0  ...         25.38          17.33           184.60      2019.0   \n",
              "1  ...         24.99          23.41           158.80      1956.0   \n",
              "2  ...         23.57          25.53           152.50      1709.0   \n",
              "3  ...         14.91          26.50            98.87       567.7   \n",
              "4  ...         22.54          16.67           152.20      1575.0   \n",
              "\n",
              "   smoothness_worst  compactness_worst  concavity_worst  concave points_worst  \\\n",
              "0            0.1622             0.6656           0.7119                0.2654   \n",
              "1            0.1238             0.1866           0.2416                0.1860   \n",
              "2            0.1444             0.4245           0.4504                0.2430   \n",
              "3            0.2098             0.8663           0.6869                0.2575   \n",
              "4            0.1374             0.2050           0.4000                0.1625   \n",
              "\n",
              "   symmetry_worst  fractal_dimension_worst  \n",
              "0          0.4601                  0.11890  \n",
              "1          0.2750                  0.08902  \n",
              "2          0.3613                  0.08758  \n",
              "3          0.6638                  0.17300  \n",
              "4          0.2364                  0.07678  \n",
              "\n",
              "[5 rows x 32 columns]"
            ],
            "text/html": [
              "\n",
              "  <div id=\"df-996cd6ab-9a3e-4c60-bd16-bf940c3d7f07\">\n",
              "    <div class=\"colab-df-container\">\n",
              "      <div>\n",
              "<style scoped>\n",
              "    .dataframe tbody tr th:only-of-type {\n",
              "        vertical-align: middle;\n",
              "    }\n",
              "\n",
              "    .dataframe tbody tr th {\n",
              "        vertical-align: top;\n",
              "    }\n",
              "\n",
              "    .dataframe thead th {\n",
              "        text-align: right;\n",
              "    }\n",
              "</style>\n",
              "<table border=\"1\" class=\"dataframe\">\n",
              "  <thead>\n",
              "    <tr style=\"text-align: right;\">\n",
              "      <th></th>\n",
              "      <th>id</th>\n",
              "      <th>diagnosis</th>\n",
              "      <th>radius_mean</th>\n",
              "      <th>texture_mean</th>\n",
              "      <th>perimeter_mean</th>\n",
              "      <th>area_mean</th>\n",
              "      <th>smoothness_mean</th>\n",
              "      <th>compactness_mean</th>\n",
              "      <th>concavity_mean</th>\n",
              "      <th>concave points_mean</th>\n",
              "      <th>...</th>\n",
              "      <th>radius_worst</th>\n",
              "      <th>texture_worst</th>\n",
              "      <th>perimeter_worst</th>\n",
              "      <th>area_worst</th>\n",
              "      <th>smoothness_worst</th>\n",
              "      <th>compactness_worst</th>\n",
              "      <th>concavity_worst</th>\n",
              "      <th>concave points_worst</th>\n",
              "      <th>symmetry_worst</th>\n",
              "      <th>fractal_dimension_worst</th>\n",
              "    </tr>\n",
              "  </thead>\n",
              "  <tbody>\n",
              "    <tr>\n",
              "      <th>0</th>\n",
              "      <td>842302</td>\n",
              "      <td>0</td>\n",
              "      <td>17.99</td>\n",
              "      <td>10.38</td>\n",
              "      <td>122.80</td>\n",
              "      <td>1001.0</td>\n",
              "      <td>0.11840</td>\n",
              "      <td>0.27760</td>\n",
              "      <td>0.3001</td>\n",
              "      <td>0.14710</td>\n",
              "      <td>...</td>\n",
              "      <td>25.38</td>\n",
              "      <td>17.33</td>\n",
              "      <td>184.60</td>\n",
              "      <td>2019.0</td>\n",
              "      <td>0.1622</td>\n",
              "      <td>0.6656</td>\n",
              "      <td>0.7119</td>\n",
              "      <td>0.2654</td>\n",
              "      <td>0.4601</td>\n",
              "      <td>0.11890</td>\n",
              "    </tr>\n",
              "    <tr>\n",
              "      <th>1</th>\n",
              "      <td>842517</td>\n",
              "      <td>0</td>\n",
              "      <td>20.57</td>\n",
              "      <td>17.77</td>\n",
              "      <td>132.90</td>\n",
              "      <td>1326.0</td>\n",
              "      <td>0.08474</td>\n",
              "      <td>0.07864</td>\n",
              "      <td>0.0869</td>\n",
              "      <td>0.07017</td>\n",
              "      <td>...</td>\n",
              "      <td>24.99</td>\n",
              "      <td>23.41</td>\n",
              "      <td>158.80</td>\n",
              "      <td>1956.0</td>\n",
              "      <td>0.1238</td>\n",
              "      <td>0.1866</td>\n",
              "      <td>0.2416</td>\n",
              "      <td>0.1860</td>\n",
              "      <td>0.2750</td>\n",
              "      <td>0.08902</td>\n",
              "    </tr>\n",
              "    <tr>\n",
              "      <th>2</th>\n",
              "      <td>84300903</td>\n",
              "      <td>0</td>\n",
              "      <td>19.69</td>\n",
              "      <td>21.25</td>\n",
              "      <td>130.00</td>\n",
              "      <td>1203.0</td>\n",
              "      <td>0.10960</td>\n",
              "      <td>0.15990</td>\n",
              "      <td>0.1974</td>\n",
              "      <td>0.12790</td>\n",
              "      <td>...</td>\n",
              "      <td>23.57</td>\n",
              "      <td>25.53</td>\n",
              "      <td>152.50</td>\n",
              "      <td>1709.0</td>\n",
              "      <td>0.1444</td>\n",
              "      <td>0.4245</td>\n",
              "      <td>0.4504</td>\n",
              "      <td>0.2430</td>\n",
              "      <td>0.3613</td>\n",
              "      <td>0.08758</td>\n",
              "    </tr>\n",
              "    <tr>\n",
              "      <th>3</th>\n",
              "      <td>84348301</td>\n",
              "      <td>0</td>\n",
              "      <td>11.42</td>\n",
              "      <td>20.38</td>\n",
              "      <td>77.58</td>\n",
              "      <td>386.1</td>\n",
              "      <td>0.14250</td>\n",
              "      <td>0.28390</td>\n",
              "      <td>0.2414</td>\n",
              "      <td>0.10520</td>\n",
              "      <td>...</td>\n",
              "      <td>14.91</td>\n",
              "      <td>26.50</td>\n",
              "      <td>98.87</td>\n",
              "      <td>567.7</td>\n",
              "      <td>0.2098</td>\n",
              "      <td>0.8663</td>\n",
              "      <td>0.6869</td>\n",
              "      <td>0.2575</td>\n",
              "      <td>0.6638</td>\n",
              "      <td>0.17300</td>\n",
              "    </tr>\n",
              "    <tr>\n",
              "      <th>4</th>\n",
              "      <td>84358402</td>\n",
              "      <td>0</td>\n",
              "      <td>20.29</td>\n",
              "      <td>14.34</td>\n",
              "      <td>135.10</td>\n",
              "      <td>1297.0</td>\n",
              "      <td>0.10030</td>\n",
              "      <td>0.13280</td>\n",
              "      <td>0.1980</td>\n",
              "      <td>0.10430</td>\n",
              "      <td>...</td>\n",
              "      <td>22.54</td>\n",
              "      <td>16.67</td>\n",
              "      <td>152.20</td>\n",
              "      <td>1575.0</td>\n",
              "      <td>0.1374</td>\n",
              "      <td>0.2050</td>\n",
              "      <td>0.4000</td>\n",
              "      <td>0.1625</td>\n",
              "      <td>0.2364</td>\n",
              "      <td>0.07678</td>\n",
              "    </tr>\n",
              "  </tbody>\n",
              "</table>\n",
              "<p>5 rows × 32 columns</p>\n",
              "</div>\n",
              "      <button class=\"colab-df-convert\" onclick=\"convertToInteractive('df-996cd6ab-9a3e-4c60-bd16-bf940c3d7f07')\"\n",
              "              title=\"Convert this dataframe to an interactive table.\"\n",
              "              style=\"display:none;\">\n",
              "        \n",
              "  <svg xmlns=\"http://www.w3.org/2000/svg\" height=\"24px\"viewBox=\"0 0 24 24\"\n",
              "       width=\"24px\">\n",
              "    <path d=\"M0 0h24v24H0V0z\" fill=\"none\"/>\n",
              "    <path d=\"M18.56 5.44l.94 2.06.94-2.06 2.06-.94-2.06-.94-.94-2.06-.94 2.06-2.06.94zm-11 1L8.5 8.5l.94-2.06 2.06-.94-2.06-.94L8.5 2.5l-.94 2.06-2.06.94zm10 10l.94 2.06.94-2.06 2.06-.94-2.06-.94-.94-2.06-.94 2.06-2.06.94z\"/><path d=\"M17.41 7.96l-1.37-1.37c-.4-.4-.92-.59-1.43-.59-.52 0-1.04.2-1.43.59L10.3 9.45l-7.72 7.72c-.78.78-.78 2.05 0 2.83L4 21.41c.39.39.9.59 1.41.59.51 0 1.02-.2 1.41-.59l7.78-7.78 2.81-2.81c.8-.78.8-2.07 0-2.86zM5.41 20L4 18.59l7.72-7.72 1.47 1.35L5.41 20z\"/>\n",
              "  </svg>\n",
              "      </button>\n",
              "      \n",
              "  <style>\n",
              "    .colab-df-container {\n",
              "      display:flex;\n",
              "      flex-wrap:wrap;\n",
              "      gap: 12px;\n",
              "    }\n",
              "\n",
              "    .colab-df-convert {\n",
              "      background-color: #E8F0FE;\n",
              "      border: none;\n",
              "      border-radius: 50%;\n",
              "      cursor: pointer;\n",
              "      display: none;\n",
              "      fill: #1967D2;\n",
              "      height: 32px;\n",
              "      padding: 0 0 0 0;\n",
              "      width: 32px;\n",
              "    }\n",
              "\n",
              "    .colab-df-convert:hover {\n",
              "      background-color: #E2EBFA;\n",
              "      box-shadow: 0px 1px 2px rgba(60, 64, 67, 0.3), 0px 1px 3px 1px rgba(60, 64, 67, 0.15);\n",
              "      fill: #174EA6;\n",
              "    }\n",
              "\n",
              "    [theme=dark] .colab-df-convert {\n",
              "      background-color: #3B4455;\n",
              "      fill: #D2E3FC;\n",
              "    }\n",
              "\n",
              "    [theme=dark] .colab-df-convert:hover {\n",
              "      background-color: #434B5C;\n",
              "      box-shadow: 0px 1px 3px 1px rgba(0, 0, 0, 0.15);\n",
              "      filter: drop-shadow(0px 1px 2px rgba(0, 0, 0, 0.3));\n",
              "      fill: #FFFFFF;\n",
              "    }\n",
              "  </style>\n",
              "\n",
              "      <script>\n",
              "        const buttonEl =\n",
              "          document.querySelector('#df-996cd6ab-9a3e-4c60-bd16-bf940c3d7f07 button.colab-df-convert');\n",
              "        buttonEl.style.display =\n",
              "          google.colab.kernel.accessAllowed ? 'block' : 'none';\n",
              "\n",
              "        async function convertToInteractive(key) {\n",
              "          const element = document.querySelector('#df-996cd6ab-9a3e-4c60-bd16-bf940c3d7f07');\n",
              "          const dataTable =\n",
              "            await google.colab.kernel.invokeFunction('convertToInteractive',\n",
              "                                                     [key], {});\n",
              "          if (!dataTable) return;\n",
              "\n",
              "          const docLinkHtml = 'Like what you see? Visit the ' +\n",
              "            '<a target=\"_blank\" href=https://colab.research.google.com/notebooks/data_table.ipynb>data table notebook</a>'\n",
              "            + ' to learn more about interactive tables.';\n",
              "          element.innerHTML = '';\n",
              "          dataTable['output_type'] = 'display_data';\n",
              "          await google.colab.output.renderOutput(dataTable, element);\n",
              "          const docLink = document.createElement('div');\n",
              "          docLink.innerHTML = docLinkHtml;\n",
              "          element.appendChild(docLink);\n",
              "        }\n",
              "      </script>\n",
              "    </div>\n",
              "  </div>\n",
              "  "
            ]
          },
          "metadata": {},
          "execution_count": 81
        }
      ]
    },
    {
      "cell_type": "code",
      "source": [
        "data.isnull().sum()"
      ],
      "metadata": {
        "colab": {
          "base_uri": "https://localhost:8080/"
        },
        "id": "Wt1qHXdgpoif",
        "outputId": "c5de2e7c-e271-4b04-ff43-8897c46eb66e"
      },
      "execution_count": null,
      "outputs": [
        {
          "output_type": "execute_result",
          "data": {
            "text/plain": [
              "GENDER                   0\n",
              "AGE                      0\n",
              "SMOKING                  0\n",
              "YELLOW_FINGERS           0\n",
              "ANXIETY                  0\n",
              "PEER_PRESSURE            0\n",
              "CHRONIC DISEASE          0\n",
              "FATIGUE                  0\n",
              "ALLERGY                  0\n",
              "WHEEZING                 0\n",
              "ALCOHOL CONSUMING        0\n",
              "COUGHING                 0\n",
              "SHORTNESS OF BREATH      0\n",
              "SWALLOWING DIFFICULTY    0\n",
              "CHEST PAIN               0\n",
              "LUNG_CANCER              0\n",
              "dtype: int64"
            ]
          },
          "metadata": {},
          "execution_count": 15
        }
      ]
    },
    {
      "cell_type": "code",
      "source": [
        "y = data['LUNG_CANCER']\n",
        "X = data.drop(['LUNG_CANCER','GENDER'], axis = 1)"
      ],
      "metadata": {
        "id": "puH29eTRpokj"
      },
      "execution_count": null,
      "outputs": []
    },
    {
      "cell_type": "code",
      "source": [
        "X_train, X_test, y_train, y_test = train_test_split(X, y, test_size=0.5)"
      ],
      "metadata": {
        "id": "R0WYvZlGpon_"
      },
      "execution_count": null,
      "outputs": []
    },
    {
      "cell_type": "code",
      "source": [
        "Logmodel = LogisticRegression()\n",
        "Logmodel.fit(X_train,y_train)"
      ],
      "metadata": {
        "colab": {
          "base_uri": "https://localhost:8080/"
        },
        "id": "pQyYQU9zqNMX",
        "outputId": "b108e845-b6d5-4510-a1b1-d7756e4c0e1c"
      },
      "execution_count": null,
      "outputs": [
        {
          "output_type": "stream",
          "name": "stderr",
          "text": [
            "/usr/local/lib/python3.7/dist-packages/sklearn/linear_model/_logistic.py:818: ConvergenceWarning: lbfgs failed to converge (status=1):\n",
            "STOP: TOTAL NO. of ITERATIONS REACHED LIMIT.\n",
            "\n",
            "Increase the number of iterations (max_iter) or scale the data as shown in:\n",
            "    https://scikit-learn.org/stable/modules/preprocessing.html\n",
            "Please also refer to the documentation for alternative solver options:\n",
            "    https://scikit-learn.org/stable/modules/linear_model.html#logistic-regression\n",
            "  extra_warning_msg=_LOGISTIC_SOLVER_CONVERGENCE_MSG,\n"
          ]
        },
        {
          "output_type": "execute_result",
          "data": {
            "text/plain": [
              "LogisticRegression()"
            ]
          },
          "metadata": {},
          "execution_count": 22
        }
      ]
    },
    {
      "cell_type": "code",
      "source": [
        "y_pred2 = Logmodel.predict(X_test)\n",
        "y_pred2"
      ],
      "metadata": {
        "colab": {
          "base_uri": "https://localhost:8080/"
        },
        "id": "PgOhpUM6qaUS",
        "outputId": "a7a8a147-4563-4c1a-ce4b-e845f423ddd7"
      },
      "execution_count": null,
      "outputs": [
        {
          "output_type": "execute_result",
          "data": {
            "text/plain": [
              "array([1, 1, 1, 1, 1, 1, 1, 1, 1, 1, 1, 1, 1, 1, 1, 1, 1, 1, 1, 1, 1, 1,\n",
              "       1, 1, 1, 1, 1, 1, 1, 1, 1, 1, 1, 1, 1, 1, 1, 1, 1, 1, 1, 1, 1, 1,\n",
              "       1, 1, 1, 0, 1, 1, 1, 1, 1, 0, 1, 1, 1, 1, 1, 1, 1, 1, 1, 1, 1, 0,\n",
              "       1, 1, 1, 1, 1, 1, 1, 1, 1, 1, 1, 0, 0, 1, 0, 1, 1, 1, 1, 1, 1, 1,\n",
              "       1, 1, 0, 1, 1, 1, 1, 1, 1, 1, 1, 0, 1, 1, 1, 1, 1, 1, 1, 0, 1, 1,\n",
              "       1, 1, 1, 1, 0, 1, 1, 1, 1, 1, 1, 1, 1, 1, 1, 1, 0, 1, 1, 1, 1, 1,\n",
              "       1, 1, 1, 1, 1, 1, 1, 1, 1, 0, 1, 1, 1, 0, 1, 1, 1, 1, 1, 1, 1, 1,\n",
              "       1])"
            ]
          },
          "metadata": {},
          "execution_count": 23
        }
      ]
    },
    {
      "cell_type": "code",
      "source": [
        "model = LinearRegression()\n",
        "model.fit(X_train,y_train)"
      ],
      "metadata": {
        "colab": {
          "base_uri": "https://localhost:8080/"
        },
        "id": "ucaKwdiIrhCv",
        "outputId": "168791d6-a7c3-4f29-e7e8-6ae676c33f57"
      },
      "execution_count": null,
      "outputs": [
        {
          "output_type": "execute_result",
          "data": {
            "text/plain": [
              "LinearRegression()"
            ]
          },
          "metadata": {},
          "execution_count": 24
        }
      ]
    },
    {
      "cell_type": "code",
      "source": [
        "pred = model.predict(X_test)\n",
        "print(pred)\n",
        "y_pred1 = [ 0 if x < 0.6 else 1 for x in pred]\n",
        "y_pred1"
      ],
      "metadata": {
        "colab": {
          "base_uri": "https://localhost:8080/"
        },
        "id": "zjTRY3KarsEd",
        "outputId": "3c578285-4193-4533-9440-ac824965266b"
      },
      "execution_count": null,
      "outputs": [
        {
          "output_type": "stream",
          "name": "stdout",
          "text": [
            "[1.01937034 0.78454801 0.99388933 1.00986162 0.86452964 0.66253385\n",
            " 1.08833795 0.61674293 0.89817578 1.04667627 0.95525582 0.87770527\n",
            " 0.89531843 0.99689313 0.9968195  0.61321635 0.97490898 0.7850012\n",
            " 1.06640183 0.90769491 0.80605884 1.17730147 0.87929675 0.89374666\n",
            " 1.16248084 0.93193118 0.83108629 0.92731051 1.03154815 0.9968195\n",
            " 0.99591222 0.74519776 1.04288069 0.77759268 0.96447482 0.8677491\n",
            " 0.88509959 1.13117859 1.23642518 0.97229803 0.93193118 0.81706236\n",
            " 1.00093383 0.69627656 0.51292907 1.06178116 0.96909549 0.45450043\n",
            " 0.92052157 0.83475207 1.10329545 0.70420759 0.97973988 0.45286038\n",
            " 0.89531843 0.64597891 0.83721145 1.13685497 1.04020951 1.08133128\n",
            " 1.20964615 0.54887035 0.57596951 0.92502095 1.23180451 0.44431941\n",
            " 0.65656407 0.82054277 1.17206579 1.20154015 0.89326767 0.57390508\n",
            " 0.90013698 0.54860918 0.799057   0.80087804 1.05504648 0.53542412\n",
            " 0.39219986 0.62968635 0.42205086 0.90700685 1.00029991 0.98002732\n",
            " 0.84161216 0.87934398 0.85864838 0.77992734 1.00746389 0.9543262\n",
            " 0.4887356  0.86802839 0.96075504 1.2806676  0.83327889 0.80025008\n",
            " 0.7683011  1.0780409  1.08719484 0.52164268 0.79412094 0.93886218\n",
            " 0.70800756 0.94949531 0.89756038 1.00977422 0.87236575 0.43296967\n",
            " 0.64816902 0.90538457 0.96216448 1.13706716 0.97058594 0.81619849\n",
            " 0.47256095 1.05595285 0.98205021 1.1513439  0.99105857 0.90769491\n",
            " 0.8670369  0.87200455 1.21219543 1.20654366 0.87717524 0.87770527\n",
            " 0.42253859 1.03120946 0.97900711 0.96142091 0.91188977 1.00053288\n",
            " 0.87466217 0.95871389 0.92964162 0.89083451 0.87200455 0.94697059\n",
            " 0.76599077 0.8608613  1.08448969 0.40130657 1.26218492 0.75190391\n",
            " 1.2154374  0.45055005 0.78672859 0.77274878 0.90067766 1.00618713\n",
            " 0.82861403 1.10329545 1.13484504 0.46478446 0.85323474]\n"
          ]
        },
        {
          "output_type": "execute_result",
          "data": {
            "text/plain": [
              "[1,\n",
              " 1,\n",
              " 1,\n",
              " 1,\n",
              " 1,\n",
              " 1,\n",
              " 1,\n",
              " 1,\n",
              " 1,\n",
              " 1,\n",
              " 1,\n",
              " 1,\n",
              " 1,\n",
              " 1,\n",
              " 1,\n",
              " 1,\n",
              " 1,\n",
              " 1,\n",
              " 1,\n",
              " 1,\n",
              " 1,\n",
              " 1,\n",
              " 1,\n",
              " 1,\n",
              " 1,\n",
              " 1,\n",
              " 1,\n",
              " 1,\n",
              " 1,\n",
              " 1,\n",
              " 1,\n",
              " 1,\n",
              " 1,\n",
              " 1,\n",
              " 1,\n",
              " 1,\n",
              " 1,\n",
              " 1,\n",
              " 1,\n",
              " 1,\n",
              " 1,\n",
              " 1,\n",
              " 1,\n",
              " 1,\n",
              " 0,\n",
              " 1,\n",
              " 1,\n",
              " 0,\n",
              " 1,\n",
              " 1,\n",
              " 1,\n",
              " 1,\n",
              " 1,\n",
              " 0,\n",
              " 1,\n",
              " 1,\n",
              " 1,\n",
              " 1,\n",
              " 1,\n",
              " 1,\n",
              " 1,\n",
              " 0,\n",
              " 0,\n",
              " 1,\n",
              " 1,\n",
              " 0,\n",
              " 1,\n",
              " 1,\n",
              " 1,\n",
              " 1,\n",
              " 1,\n",
              " 0,\n",
              " 1,\n",
              " 0,\n",
              " 1,\n",
              " 1,\n",
              " 1,\n",
              " 0,\n",
              " 0,\n",
              " 1,\n",
              " 0,\n",
              " 1,\n",
              " 1,\n",
              " 1,\n",
              " 1,\n",
              " 1,\n",
              " 1,\n",
              " 1,\n",
              " 1,\n",
              " 1,\n",
              " 0,\n",
              " 1,\n",
              " 1,\n",
              " 1,\n",
              " 1,\n",
              " 1,\n",
              " 1,\n",
              " 1,\n",
              " 1,\n",
              " 0,\n",
              " 1,\n",
              " 1,\n",
              " 1,\n",
              " 1,\n",
              " 1,\n",
              " 1,\n",
              " 1,\n",
              " 0,\n",
              " 1,\n",
              " 1,\n",
              " 1,\n",
              " 1,\n",
              " 1,\n",
              " 1,\n",
              " 0,\n",
              " 1,\n",
              " 1,\n",
              " 1,\n",
              " 1,\n",
              " 1,\n",
              " 1,\n",
              " 1,\n",
              " 1,\n",
              " 1,\n",
              " 1,\n",
              " 1,\n",
              " 0,\n",
              " 1,\n",
              " 1,\n",
              " 1,\n",
              " 1,\n",
              " 1,\n",
              " 1,\n",
              " 1,\n",
              " 1,\n",
              " 1,\n",
              " 1,\n",
              " 1,\n",
              " 1,\n",
              " 1,\n",
              " 1,\n",
              " 0,\n",
              " 1,\n",
              " 1,\n",
              " 1,\n",
              " 0,\n",
              " 1,\n",
              " 1,\n",
              " 1,\n",
              " 1,\n",
              " 1,\n",
              " 1,\n",
              " 1,\n",
              " 0,\n",
              " 1]"
            ]
          },
          "metadata": {},
          "execution_count": 51
        }
      ]
    },
    {
      "cell_type": "code",
      "source": [
        "#Confusion Matrix\n",
        "from sklearn import metrics\n",
        "from sklearn.metrics import confusion_matrix\n",
        "cm1= confusion_matrix(y_test,y_pred1)\n",
        "cm2= confusion_matrix(y_test,y_pred2)\n",
        "print(\"Confusin Matrix: \")\n",
        "print(cm1)\n",
        "print(cm2)"
      ],
      "metadata": {
        "colab": {
          "base_uri": "https://localhost:8080/"
        },
        "id": "7_MzQRogrtfe",
        "outputId": "1aad4129-4486-4820-cd42-1dfa38b011a1"
      },
      "execution_count": null,
      "outputs": [
        {
          "output_type": "stream",
          "name": "stdout",
          "text": [
            "Confusin Matrix: \n",
            "[[ 13   9]\n",
            " [  6 127]]\n",
            "[[  9  13]\n",
            " [  4 129]]\n"
          ]
        }
      ]
    },
    {
      "cell_type": "code",
      "source": [
        "#Linear Regression Confusion Matrix\n",
        "cm_display = metrics.ConfusionMatrixDisplay(confusion_matrix = cm1, display_labels =[False,True])\n",
        "cm_display.plot()\n",
        "plt.show()"
      ],
      "metadata": {
        "colab": {
          "base_uri": "https://localhost:8080/",
          "height": 279
        },
        "id": "p_WB3F0xr0Cg",
        "outputId": "be39a77e-e458-4e48-ae5b-dd3289f903fa"
      },
      "execution_count": null,
      "outputs": [
        {
          "output_type": "display_data",
          "data": {
            "text/plain": [
              "<Figure size 432x288 with 2 Axes>"
            ],
            "image/png": "[encoded data removed]"
          },
          "metadata": {
            "needs_background": "light"
          }
        }
      ]
    },
    {
      "cell_type": "code",
      "source": [
        "#Print Accuracy of the model\n",
        "print(\"Accuracy:\",metrics.accuracy_score(y_test, y_pred1))"
      ],
      "metadata": {
        "colab": {
          "base_uri": "https://localhost:8080/"
        },
        "id": "ql2olWA-r3-F",
        "outputId": "c56eda3d-12d4-4629-db2f-1f14d271eec5"
      },
      "execution_count": null,
      "outputs": [
        {
          "output_type": "stream",
          "name": "stdout",
          "text": [
            "Accuracy: 0.9032258064516129\n"
          ]
        }
      ]
    },
    {
      "cell_type": "code",
      "source": [
        "#ROC Curve -Linear\n",
        "from sklearn.metrics import roc_curve, auc\n",
        "false_positive_rate, true_positive_rate, thresholds = roc_curve(y_test, y_pred1)\n",
        "roc_auc = auc(false_positive_rate, true_positive_rate)\n",
        "print(roc_auc)\n",
        "plt.plot(false_positive_rate,true_positive_rate)"
      ],
      "metadata": {
        "colab": {
          "base_uri": "https://localhost:8080/",
          "height": 300
        },
        "id": "XS-MNdSusRpv",
        "outputId": "efbe7649-3d84-4959-90e1-fd5eea425772"
      },
      "execution_count": null,
      "outputs": [
        {
          "output_type": "stream",
          "name": "stdout",
          "text": [
            "0.7728981544771019\n"
          ]
        },
        {
          "output_type": "execute_result",
          "data": {
            "text/plain": [
              "[<matplotlib.lines.Line2D at 0x7f455aa04e50>]"
            ]
          },
          "metadata": {},
          "execution_count": 55
        },
        {
          "output_type": "display_data",
          "data": {
            "text/plain": [
              "<Figure size 432x288 with 1 Axes>"
            ],
            "image/png": "[encoded data removed]"
          },
          "metadata": {
            "needs_background": "light"
          }
        }
      ]
    },
    {
      "cell_type": "code",
      "source": [
        "#Logics Regression Confusion Matrix\n",
        "cm_display = metrics.ConfusionMatrixDisplay(confusion_matrix = cm2, display_labels =[False,True])\n",
        "cm_display.plot()\n",
        "plt.show()"
      ],
      "metadata": {
        "colab": {
          "base_uri": "https://localhost:8080/",
          "height": 279
        },
        "id": "yEMPW_sKr-RU",
        "outputId": "d89170a4-6533-4fc3-f90a-e96d95dbf5c8"
      },
      "execution_count": null,
      "outputs": [
        {
          "output_type": "display_data",
          "data": {
            "text/plain": [
              "<Figure size 432x288 with 2 Axes>"
            ],
            "image/png": "[encoded data removed]"
          },
          "metadata": {
            "needs_background": "light"
          }
        }
      ]
    },
    {
      "cell_type": "code",
      "source": [
        "#Print Accuracy of the model\n",
        "print(\"Accuracy:\",metrics.accuracy_score(y_test, y_pred2))"
      ],
      "metadata": {
        "colab": {
          "base_uri": "https://localhost:8080/"
        },
        "id": "xnQobnpasE4Y",
        "outputId": "05962ead-eaff-4e5d-bb3a-34e0550e53f9"
      },
      "execution_count": null,
      "outputs": [
        {
          "output_type": "stream",
          "name": "stdout",
          "text": [
            "Accuracy: 0.8903225806451613\n"
          ]
        }
      ]
    },
    {
      "cell_type": "code",
      "source": [
        "#ROC Curve Logistic \n",
        "false_positive_rate, true_positive_rate, thresholds = roc_curve(y_test, y_pred2)\n",
        "roc_auc = auc(false_positive_rate, true_positive_rate)\n",
        "print(roc_auc)\n",
        "plt.plot(false_positive_rate,true_positive_rate)\n"
      ],
      "metadata": {
        "colab": {
          "base_uri": "https://localhost:8080/",
          "height": 300
        },
        "id": "MJEfAkK0sKwu",
        "outputId": "1b0337ef-8e26-43ab-a852-468fcac8bca2"
      },
      "execution_count": null,
      "outputs": [
        {
          "output_type": "stream",
          "name": "stdout",
          "text": [
            "0.6895078605604921\n"
          ]
        },
        {
          "output_type": "execute_result",
          "data": {
            "text/plain": [
              "[<matplotlib.lines.Line2D at 0x7f455acacd50>]"
            ]
          },
          "metadata": {},
          "execution_count": 58
        },
        {
          "output_type": "display_data",
          "data": {
            "text/plain": [
              "<Figure size 432x288 with 1 Axes>"
            ],
            "image/png": "[encoded data removed]"
          },
          "metadata": {
            "needs_background": "light"
          }
        }
      ]
    }
  ]
}